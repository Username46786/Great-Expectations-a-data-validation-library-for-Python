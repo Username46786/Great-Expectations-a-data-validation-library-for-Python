{
 "cells": [
  {
   "cell_type": "markdown",
   "metadata": {},
   "source": [
    "<p style=\"text-align:center\">\n",
    "    <a href=\"https://skills.network/?utm_medium=Exinfluencer&utm_source=Exinfluencer&utm_content=000026UJ&utm_term=10006555&utm_id=NA-SkillsNetwork-Channel-SkillsNetworkGuidedProjectsIBMGPXX0J6EEN1429-2022-01-01\" target=\"_blank\">\n",
    "    <img src=\"https://cf-courses-data.s3.us.cloud-object-storage.appdomain.cloud/assets/logos/SN_web_lightmode.png\" width=\"200\" alt=\"Skills Network Logo\"  />\n",
    "    </a>\n",
    "</p>\n"
   ]
  },
  {
   "cell_type": "markdown",
   "metadata": {},
   "source": [
    "# **Looking for a data validation libraries? Try Great Expectations in python**\n"
   ]
  },
  {
   "cell_type": "markdown",
   "metadata": {},
   "source": [
    "Estimated time needed: **30** minutes\n"
   ]
  },
  {
   "cell_type": "markdown",
   "metadata": {},
   "source": [
    "## __Table of Contents__\n",
    "\n",
    "<ol>\n",
    "    <li><a href=\"#Objectives\">Objectives</a></li>\n",
    "    <li>\n",
    "        <a href=\"#Setup\">Setup</a>\n",
    "        <ol>\n",
    "            <li><a href=\"#Installing-Required-Libraries\">Installing Required Libraries</a></li>\n",
    "            <li><a href=\"#Importing-Required-Libraries\">Importing Required Libraries</a></li>\n",
    "            <li><a href=\"#Defining-Helper-Functions\">Defining Helper Functions</a></li>\n",
    "            <li><a href=\"#Importing-bank-churn-dataset\">Importing bank churn dataset</a></li>\n",
    "        </ol>\n",
    "    </li>\n",
    "    <li>\n",
    "        <a href=\"#Great-Expectations-example:-Bank-churn-dataset-check\">Great Expectations example: Bank churn dataset check</a>\n",
    "        <ol>\n",
    "            <li><a href=\"#1.-csv-dataset-read-in-Great-Expectations\">csv dataset read in Great Expectations</a></li>\n",
    "            <li><a href=\"#2.-Exist-or-not\">Exist or not</a></li>\n",
    "            <li><a href=\"#3.-Simple-content\">Simple content</a></li>\n",
    "            <li><a href=\"#4.-Be-in-set\">Be in set</a></li>\n",
    "            <li><a href=\"#5.-Value-ratios\">Value ratios</a></li>\n",
    "            <li><a href=\"#6.-Number-&-mostly\">Number & mostly</a></li>\n",
    "            <li><a href=\"#7.-Statistic-information\">Statistic information</a></li>\n",
    "            <li><a href=\"#8.-Combined-expectations-suite-&-future-data-validation\">Combined expectations suite & future data validation</a></li>\n",
    "        </ol>\n",
    "    </li>\n",
    "</ol>\n",
    "\n",
    "<a href=\"#Exercises\">Exercises</a>\n",
    "<ol>\n",
    "    <li><a href=\"#Exercise-1---To-be-in-set\">Exercise 1. To be in set</a></li>\n",
    "    <li><a href=\"#Exercise-2---Mostly\">Exercise 2. Mostly</a></li>\n",
    "    <li><a href=\"#Exercise-3---In-between\">Exercise 3. In between</a></li>\n",
    "</ol>\n"
   ]
  },
  {
   "cell_type": "markdown",
   "metadata": {},
   "source": [
    "## Objectives\n",
    "\n",
    "After completing this lab you will be able to:\n",
    "\n",
    " - Understand how the funtions of DataFrame in `Great expectations`.\n",
    " - Know some common needs in data validation.\n",
    " - Set up data validation contents in `Great expectations` to ***do data validation*** before machine learning modeling.\n",
    " - Build and use suite in `Great expectations` to build a ***data validation pipeline***.\n"
   ]
  },
  {
   "cell_type": "markdown",
   "metadata": {},
   "source": [
    "----\n"
   ]
  },
  {
   "cell_type": "markdown",
   "metadata": {},
   "source": [
    "## Setup\n"
   ]
  },
  {
   "cell_type": "markdown",
   "metadata": {},
   "source": [
    "For this lab, we will be using the following libraries:\n",
    "\n",
    "*   [`pandas`](https://pandas.pydata.org/?utm_medium=Exinfluencer&utm_source=Exinfluencer&utm_content=000026UJ&utm_term=10006555&utm_id=NA-SkillsNetwork-Channel-SkillsNetworkCoursesIBMML0187ENSkillsNetwork31430127-2021-01-01) for managing the data.\n",
    "*   [`numpy`](https://numpy.org/?utm_medium=Exinfluencer&utm_source=Exinfluencer&utm_content=000026UJ&utm_term=10006555&utm_id=NA-SkillsNetwork-Channel-SkillsNetworkCoursesIBMML0187ENSkillsNetwork31430127-2021-01-01) for mathematical operations.\n",
    "*   [`sklearn`](https://scikit-learn.org/stable/?utm_medium=Exinfluencer&utm_source=Exinfluencer&utm_content=000026UJ&utm_term=10006555&utm_id=NA-SkillsNetwork-Channel-SkillsNetworkCoursesIBMML0187ENSkillsNetwork31430127-2021-01-01) for machine learning and machine-learning-pipeline related functions.\n",
    "*   [`seaborn`](https://seaborn.pydata.org/?utm_medium=Exinfluencer&utm_source=Exinfluencer&utm_content=000026UJ&utm_term=10006555&utm_id=NA-SkillsNetwork-Channel-SkillsNetworkCoursesIBMML0187ENSkillsNetwork31430127-2021-01-01) for visualizing the data.\n",
    "*   [`matplotlib`](https://matplotlib.org/?utm_medium=Exinfluencer&utm_source=Exinfluencer&utm_content=000026UJ&utm_term=10006555&utm_id=NA-SkillsNetwork-Channel-SkillsNetworkCoursesIBMML0187ENSkillsNetwork31430127-2021-01-01) for additional plotting tools.\n",
    "*   [`Great Expectations`](https://greatexpectations.io/?utm_medium=Exinfluencer&utm_source=Exinfluencer&utm_content=000026UJ&utm_term=10006555&utm_id=NA-SkillsNetwork-Channel-SkillsNetworkGuidedProjectsIBMGPXX0J6EEN1429-2022-01-01) for checking the quality of your dataset\n"
   ]
  },
  {
   "cell_type": "markdown",
   "metadata": {},
   "source": [
    "### Installing Required Libraries\n",
    "\n",
    "The following required libraries are pre-installed in the [`Skills Network Labs`](https://skills.network/lab-tools?utm_medium=Exinfluencer&utm_source=Exinfluencer&utm_content=000026UJ&utm_term=10006555&utm_id=NA-SkillsNetwork-Channel-SkillsNetworkGuidedProjectsIBMGPXX0J6EEN1429-2022-01-01) environment. However, if you run this notebook commands in a different Jupyter environment (e.g. Watson Studio or Ananconda), you will need to install these libraries by removing the `#` sign before `!mamba` in the code cell below.\n"
   ]
  },
  {
   "cell_type": "code",
   "execution_count": 1,
   "metadata": {
    "tags": []
   },
   "outputs": [
    {
     "name": "stdout",
     "output_type": "stream",
     "text": [
      "Could not solve for environment specs\n",
      "The following packages are incompatible\n",
      "├─ \u001b[32mmatplotlib 3.5.0 \u001b[0m is installable with the potential options\n",
      "│  ├─ \u001b[32mmatplotlib [2.2.2|3.1.2|...|3.5.3]\u001b[0m would require\n",
      "│  │  └─ \u001b[32mpyqt [ |>=5.6,<6.0a0 ]\u001b[0m with the potential options\n",
      "│  │     ├─ \u001b[32mpyqt 5.6.0\u001b[0m would require\n",
      "│  │     │  └─ \u001b[32mqt 5.6.* \u001b[0m with the potential options\n",
      "│  │     │     ├─ \u001b[32mqt 5.6.2\u001b[0m would require\n",
      "│  │     │     │  ├─ \u001b[32mgst-plugins-base >=1.12.2,<1.13.0a0 \u001b[0m, which requires\n",
      "│  │     │     │  │  └─ \u001b[32mgstreamer [>=1.12.2,<1.13.0a0 |>=1.12.4,<1.13.0a0 ]\u001b[0m, which requires\n",
      "│  │     │     │  │     └─ \u001b[32mglib >=2.53.6,<3.0a0 \u001b[0m, which can be installed;\n",
      "│  │     │     │  └─ \u001b[32mopenssl 1.0.* \u001b[0m, which can be installed;\n",
      "│  │     │     ├─ \u001b[32mqt 5.6.2\u001b[0m would require\n",
      "│  │     │     │  ├─ \u001b[32mglib >=2.53.6,<3.0a0 \u001b[0m, which can be installed;\n",
      "│  │     │     │  └─ \u001b[32mopenssl >=1.0.2n,<1.0.3a \u001b[0m, which can be installed;\n",
      "│  │     │     ├─ \u001b[32mqt 5.6.3\u001b[0m would require\n",
      "│  │     │     │  ├─ \u001b[32mglib >=2.56.1,<3.0a0 \u001b[0m, which can be installed;\n",
      "│  │     │     │  └─ \u001b[32mopenssl >=1.0.2o,<1.0.3a \u001b[0m, which can be installed;\n",
      "│  │     │     ├─ \u001b[32mqt 5.6.3\u001b[0m would require\n",
      "│  │     │     │  ├─ \u001b[32mglib >=2.56.1,<3.0a0 \u001b[0m, which can be installed;\n",
      "│  │     │     │  └─ \u001b[32mopenssl >=1.0.2p,<1.0.3a \u001b[0m, which can be installed;\n",
      "│  │     │     └─ \u001b[32mqt [5.6.3|5.9.7]\u001b[0m would require\n",
      "│  │     │        ├─ \u001b[32mfontconfig >=2.13.0,<3.0a0 \u001b[0m with the potential options\n",
      "│  │     │        │  ├─ \u001b[32mfontconfig 2.14.2\u001b[0m would require\n",
      "│  │     │        │  │  └─ \u001b[32mfreetype >=2.12.1,<3.0a0 \u001b[0m, which can be installed;\n",
      "│  │     │        │  ├─ \u001b[32mfontconfig [2.13.0|2.13.1]\u001b[0m would require\n",
      "│  │     │        │  │  └─ \u001b[32mlibuuid >=1.0.3,<2.0a0 \u001b[0m, which can be installed;\n",
      "│  │     │        │  ├─ \u001b[32mfontconfig 2.14.1\u001b[0m would require\n",
      "│  │     │        │  │  └─ \u001b[32mlibuuid >=1.41.5,<2.0a0 \u001b[0m, which can be installed;\n",
      "│  │     │        │  └─ \u001b[32mfontconfig 2.14.1\u001b[0m would require\n",
      "│  │     │        │     └─ \u001b[32mfreetype >=2.10.4,<3.0a0 \u001b[0m, which can be installed;\n",
      "│  │     │        └─ \u001b[32mglib >=2.56.2,<3.0a0 \u001b[0m, which can be installed;\n",
      "│  │     ├─ \u001b[32mpyqt [5.15.10|5.15.7|5.9.2]\u001b[0m would require\n",
      "│  │     │  └─ \u001b[32mpython >=3.10,<3.11.0a0 \u001b[0m, which can be installed;\n",
      "│  │     ├─ \u001b[32mpyqt [5.15.10|5.15.7]\u001b[0m would require\n",
      "│  │     │  └─ \u001b[32mpython >=3.11,<3.12.0a0 \u001b[0m, which can be installed;\n",
      "│  │     ├─ \u001b[32mpyqt 5.15.10\u001b[0m would require\n",
      "│  │     │  └─ \u001b[32mpython >=3.12,<3.13.0a0 \u001b[0m, which can be installed;\n",
      "│  │     ├─ \u001b[32mpyqt [5.15.10|5.15.7|5.9.2]\u001b[0m would require\n",
      "│  │     │  └─ \u001b[32mpython >=3.8,<3.9.0a0 \u001b[0m, which can be installed;\n",
      "│  │     ├─ \u001b[32mpyqt [5.15.10|5.15.7|5.9.2]\u001b[0m would require\n",
      "│  │     │  └─ \u001b[32mpython >=3.9,<3.10.0a0 \u001b[0m, which can be installed;\n",
      "│  │     ├─ \u001b[32mpyqt 5.15.7\u001b[0m would require\n",
      "│  │     │  └─ \u001b[32mqtwebkit 5.* \u001b[0m, which requires\n",
      "│  │     │     └─ \u001b[32mglib >=2.69.1,<3.0a0 \u001b[0m, which can be installed;\n",
      "│  │     ├─ \u001b[32mpyqt [5.6.0|5.9.2]\u001b[0m would require\n",
      "│  │     │  └─ \u001b[32mpython >=2.7,<2.8.0a0 \u001b[0m, which can be installed;\n",
      "│  │     ├─ \u001b[32mpyqt [5.6.0|5.9.2]\u001b[0m would require\n",
      "│  │     │  └─ \u001b[32mpython >=3.5,<3.6.0a0 \u001b[0m, which can be installed;\n",
      "│  │     ├─ \u001b[32mpyqt [5.6.0|5.9.2]\u001b[0m would require\n",
      "│  │     │  └─ \u001b[32mpython >=3.6,<3.7.0a0 \u001b[0m, which can be installed;\n",
      "│  │     └─ \u001b[32mpyqt 5.9.2\u001b[0m would require\n",
      "│  │        └─ \u001b[32mqt [5.9.* |>=5.9.6,<5.10.0a0 ]\u001b[0m with the potential options\n",
      "│  │           ├─ \u001b[32mqt [5.6.3|5.9.7]\u001b[0m, which can be installed (as previously explained);\n",
      "│  │           ├─ \u001b[32mqt 5.9.6\u001b[0m would require\n",
      "│  │           │  ├─ \u001b[32mglib >=2.56.1,<3.0a0 \u001b[0m, which can be installed;\n",
      "│  │           │  └─ \u001b[32mopenssl 1.0.* \u001b[0m, which can be installed;\n",
      "│  │           └─ \u001b[32mqt [5.9.4|5.9.5]\u001b[0m would require\n",
      "│  │              └─ \u001b[32mopenssl 1.0.* \u001b[0m, which can be installed;\n",
      "│  ├─ \u001b[32mmatplotlib [3.5.0|3.5.1|...|3.8.0]\u001b[0m would require\n",
      "│  │  └─ \u001b[32mpython >=3.10,<3.11.0a0 \u001b[0m, which can be installed;\n",
      "│  ├─ \u001b[32mmatplotlib [3.1.1|3.1.2|...|3.7.2]\u001b[0m would require\n",
      "│  │  └─ \u001b[32mpython >=3.8,<3.9.0a0 \u001b[0m, which can be installed;\n",
      "│  └─ \u001b[32mmatplotlib [3.3.4|3.4.2|...|3.8.0]\u001b[0m would require\n",
      "│     └─ \u001b[32mpython >=3.9,<3.10.0a0 \u001b[0m, which can be installed;\n",
      "├─ \u001b[31mnumpy 1.21.4 \u001b[0m does not exist (perhaps a typo or a missing channel);\n",
      "└─ \u001b[32mseaborn 0.9.0 \u001b[0m is installable with the potential options\n",
      "   ├─ \u001b[32mseaborn 0.9.0\u001b[0m would require\n",
      "   │  └─ \u001b[32mmatplotlib >=1.4.3 \u001b[0m with the potential options\n",
      "   │     ├─ \u001b[32mmatplotlib [2.2.2|3.1.2|...|3.5.3]\u001b[0m, which can be installed (as previously explained);\n",
      "   │     ├─ \u001b[32mmatplotlib [3.5.0|3.5.1|...|3.8.0]\u001b[0m, which can be installed (as previously explained);\n",
      "   │     ├─ \u001b[32mmatplotlib [3.1.1|3.1.2|...|3.7.2]\u001b[0m, which can be installed (as previously explained);\n",
      "   │     ├─ \u001b[32mmatplotlib [3.3.4|3.4.2|...|3.8.0]\u001b[0m, which can be installed (as previously explained);\n",
      "   │     ├─ \u001b[32mmatplotlib [2.0.2|2.1.0|...|2.2.3]\u001b[0m would require\n",
      "   │     │  └─ \u001b[32mpython >=2.7,<2.8.0a0 \u001b[0m, which can be installed;\n",
      "   │     ├─ \u001b[32mmatplotlib [2.0.2|2.1.0|...|3.0.0]\u001b[0m would require\n",
      "   │     │  └─ \u001b[32mpython >=3.5,<3.6.0a0 \u001b[0m, which can be installed;\n",
      "   │     ├─ \u001b[32mmatplotlib [2.0.2|2.1.0|...|3.3.4]\u001b[0m would require\n",
      "   │     │  └─ \u001b[32mpython >=3.6,<3.7.0a0 \u001b[0m, which can be installed;\n",
      "   │     ├─ \u001b[32mmatplotlib [2.2.3|3.0.0|...|3.1.2]\u001b[0m would require\n",
      "   │     │  └─ \u001b[32mpyqt 5.9.* \u001b[0m, which can be installed (as previously explained);\n",
      "   │     ├─ \u001b[32mmatplotlib [3.6.2|3.7.1|3.7.2|3.8.0]\u001b[0m would require\n",
      "   │     │  └─ \u001b[32mpython >=3.11,<3.12.0a0 \u001b[0m, which can be installed;\n",
      "   │     └─ \u001b[32mmatplotlib 3.8.0\u001b[0m would require\n",
      "   │        └─ \u001b[32mpython >=3.12,<3.13.0a0 \u001b[0m, which can be installed;\n",
      "   ├─ \u001b[32mseaborn 0.9.0\u001b[0m would require\n",
      "   │  └─ \u001b[32mpython >=2.7,<2.8.0a0 \u001b[0m, which can be installed;\n",
      "   ├─ \u001b[32mseaborn 0.9.0\u001b[0m would require\n",
      "   │  └─ \u001b[32mpython >=3.5,<3.6.0a0 \u001b[0m, which can be installed;\n",
      "   └─ \u001b[32mseaborn 0.9.0\u001b[0m would require\n",
      "      └─ \u001b[32mpython >=3.6,<3.7.0a0 \u001b[0m, which can be installed.\n"
     ]
    }
   ],
   "source": [
    "# All Libraries required for this lab are listed below. The libraries pre-installed on Skills Network Labs are commented.\n",
    "!mamba install -qy pandas==1.3.4 numpy==1.21.4 seaborn==0.9.0 matplotlib==3.5.0 scikit-learn==0.20.1\n",
    "# Note: If your environment doesn't support \"!mamba install\", use \"!pip install\""
   ]
  },
  {
   "cell_type": "markdown",
   "metadata": {},
   "source": [
    "The [`Great Expectations`](https://greatexpectations.io/?utm_medium=Exinfluencer&utm_source=Exinfluencer&utm_content=000026UJ&utm_term=10006555&utm_id=NA-SkillsNetwork-Channel-SkillsNetworkGuidedProjectsIBMGPXX0J6EEN1429-2022-01-01) are __not__ pre-installed in the [`Skills Network Labs`](https://skills.network/lab-tools?utm_medium=Exinfluencer&utm_source=Exinfluencer&utm_content=000026UJ&utm_term=10006555&utm_id=NA-SkillsNetwork-Channel-SkillsNetworkGuidedProjectsIBMGPXX0J6EEN1429-2022-01-01) environment. __You will need to run the following cell__ to install them:\n"
   ]
  },
  {
   "cell_type": "code",
   "execution_count": 2,
   "metadata": {
    "tags": []
   },
   "outputs": [],
   "source": [
    "%%capture\n",
    "!pip install great_expectations"
   ]
  },
  {
   "cell_type": "markdown",
   "metadata": {},
   "source": [
    "### Importing Required Libraries\n",
    "\n",
    "_We recommend you import all required libraries in one place:_\n"
   ]
  },
  {
   "cell_type": "code",
   "execution_count": 3,
   "metadata": {
    "tags": []
   },
   "outputs": [],
   "source": [
    "import great_expectations as gx\n",
    "import pandas as pd\n",
    "import numpy as np\n",
    "import seaborn as sns\n",
    "import matplotlib.pyplot as plt\n",
    "%matplotlib inline\n",
    "from sklearn.preprocessing import StandardScaler\n",
    "from sklearn.linear_model import LogisticRegression\n",
    "from sklearn.datasets import load_digits, load_wine\n",
    "\n",
    "# You can also use this section to suppress warnings generated by your code:\n",
    "def warn(*args, **kwargs):\n",
    "    pass\n",
    "import warnings\n",
    "warnings.warn = warn\n",
    "warnings.filterwarnings('ignore')\n",
    "\n",
    "sns.set_context('notebook')\n",
    "sns.set_style('white')"
   ]
  },
  {
   "cell_type": "markdown",
   "metadata": {},
   "source": [
    "### Defining Helper Functions\n",
    "\n",
    "_Here is the plotter function to help visualize any data in helping the notebook's code readability:_\n"
   ]
  },
  {
   "cell_type": "code",
   "execution_count": 4,
   "metadata": {
    "tags": []
   },
   "outputs": [],
   "source": [
    "# This function will allow us to easily plot data taking in x values, y values, and a title\n",
    "def plotter(x, y, title):\n",
    "    plt.plot(x, y)\n",
    "    plt.xlabel('X')\n",
    "    plt.ylabel('Y')\n",
    "    plt.title(title)\n",
    "    plt.show()"
   ]
  },
  {
   "cell_type": "markdown",
   "metadata": {},
   "source": [
    "### Importing bank churn dataset using Pandas\n",
    "\n",
    "_We need our dataset. The dataset is about **bank churn and customer information** and is saved in [`Skills Network Labs`](https://skills.network/lab-tools?utm_medium=Exinfluencer&utm_source=Exinfluencer&utm_content=000026UJ&utm_term=10006555&utm_id=NA-SkillsNetwork-Channel-SkillsNetworkGuidedProjectsIBMGPXX0J6EEN1429-2022-01-01)'s cloud object storage. We are using the following code to import our data as a **.csv** file:_\n",
    "\n",
    "<img src=\"https://cf-courses-data.s3.us.cloud-object-storage.appdomain.cloud/IBM-GPXX0J6EEN/images/analysis_analytics_business_chart_charts_computer_concept_data-1366141.jpg%21d.jpeg\" width=\"40%\">\n"
   ]
  },
  {
   "cell_type": "code",
   "execution_count": 5,
   "metadata": {
    "tags": []
   },
   "outputs": [],
   "source": [
    "df_pandas = pd.read_csv('https://cf-courses-data.s3.us.cloud-object-storage.appdomain.cloud/IBM-GPXX0J6EEN/Dataset_original.csv')\n",
    "df_pandas.to_csv('Dataset_original.csv')"
   ]
  },
  {
   "cell_type": "markdown",
   "metadata": {},
   "source": [
    "----\n"
   ]
  },
  {
   "cell_type": "markdown",
   "metadata": {},
   "source": [
    "## Great Expectations example: Bank churn dataset check\n"
   ]
  },
  {
   "cell_type": "markdown",
   "metadata": {},
   "source": [
    "### Reading the CSV dataset using Great Expectations library\n",
    "\n",
    "The Great Expectations's library has its own `read_csv` API and other functions that are similar to the ones commonly used in `Pandas`.\n",
    "\n",
    "Our imported `.csv` bank churn file is read in Great Expectations here:\n"
   ]
  },
  {
   "cell_type": "code",
   "execution_count": 6,
   "metadata": {
    "tags": []
   },
   "outputs": [
    {
     "data": {
      "text/html": [
       "<div>\n",
       "<style scoped>\n",
       "    .dataframe tbody tr th:only-of-type {\n",
       "        vertical-align: middle;\n",
       "    }\n",
       "\n",
       "    .dataframe tbody tr th {\n",
       "        vertical-align: top;\n",
       "    }\n",
       "\n",
       "    .dataframe thead th {\n",
       "        text-align: right;\n",
       "    }\n",
       "</style>\n",
       "<table border=\"1\" class=\"dataframe\">\n",
       "  <thead>\n",
       "    <tr style=\"text-align: right;\">\n",
       "      <th></th>\n",
       "      <th>Unnamed: 0</th>\n",
       "      <th>RowNumber</th>\n",
       "      <th>CustomerId</th>\n",
       "      <th>Surname</th>\n",
       "      <th>CreditScore</th>\n",
       "      <th>Geography</th>\n",
       "      <th>Gender</th>\n",
       "      <th>Age</th>\n",
       "      <th>Tenure</th>\n",
       "      <th>Balance</th>\n",
       "      <th>NumOfProducts</th>\n",
       "      <th>HasCrCard</th>\n",
       "      <th>IsActiveMember</th>\n",
       "      <th>EstimatedSalary</th>\n",
       "      <th>Exited</th>\n",
       "    </tr>\n",
       "  </thead>\n",
       "  <tbody>\n",
       "    <tr>\n",
       "      <th>0</th>\n",
       "      <td>0</td>\n",
       "      <td>1</td>\n",
       "      <td>15634602</td>\n",
       "      <td>Hargrave</td>\n",
       "      <td>619</td>\n",
       "      <td>France</td>\n",
       "      <td>Female</td>\n",
       "      <td>42</td>\n",
       "      <td>2</td>\n",
       "      <td>0.00</td>\n",
       "      <td>1</td>\n",
       "      <td>1</td>\n",
       "      <td>1</td>\n",
       "      <td>101348.88</td>\n",
       "      <td>1</td>\n",
       "    </tr>\n",
       "    <tr>\n",
       "      <th>1</th>\n",
       "      <td>1</td>\n",
       "      <td>2</td>\n",
       "      <td>15647311</td>\n",
       "      <td>Hill</td>\n",
       "      <td>608</td>\n",
       "      <td>Spain</td>\n",
       "      <td>Female</td>\n",
       "      <td>41</td>\n",
       "      <td>1</td>\n",
       "      <td>83807.86</td>\n",
       "      <td>1</td>\n",
       "      <td>0</td>\n",
       "      <td>1</td>\n",
       "      <td>112542.58</td>\n",
       "      <td>0</td>\n",
       "    </tr>\n",
       "    <tr>\n",
       "      <th>2</th>\n",
       "      <td>2</td>\n",
       "      <td>3</td>\n",
       "      <td>15619304</td>\n",
       "      <td>Onio</td>\n",
       "      <td>502</td>\n",
       "      <td>France</td>\n",
       "      <td>Female</td>\n",
       "      <td>42</td>\n",
       "      <td>8</td>\n",
       "      <td>159660.80</td>\n",
       "      <td>3</td>\n",
       "      <td>1</td>\n",
       "      <td>0</td>\n",
       "      <td>113931.57</td>\n",
       "      <td>1</td>\n",
       "    </tr>\n",
       "    <tr>\n",
       "      <th>3</th>\n",
       "      <td>3</td>\n",
       "      <td>4</td>\n",
       "      <td>15701354</td>\n",
       "      <td>Boni</td>\n",
       "      <td>699</td>\n",
       "      <td>France</td>\n",
       "      <td>Female</td>\n",
       "      <td>39</td>\n",
       "      <td>1</td>\n",
       "      <td>0.00</td>\n",
       "      <td>2</td>\n",
       "      <td>0</td>\n",
       "      <td>0</td>\n",
       "      <td>93826.63</td>\n",
       "      <td>0</td>\n",
       "    </tr>\n",
       "    <tr>\n",
       "      <th>4</th>\n",
       "      <td>4</td>\n",
       "      <td>5</td>\n",
       "      <td>15737888</td>\n",
       "      <td>Mitchell</td>\n",
       "      <td>850</td>\n",
       "      <td>Spain</td>\n",
       "      <td>Female</td>\n",
       "      <td>43</td>\n",
       "      <td>2</td>\n",
       "      <td>125510.82</td>\n",
       "      <td>1</td>\n",
       "      <td>1</td>\n",
       "      <td>1</td>\n",
       "      <td>79084.10</td>\n",
       "      <td>0</td>\n",
       "    </tr>\n",
       "  </tbody>\n",
       "</table>\n",
       "</div>"
      ],
      "text/plain": [
       "   Unnamed: 0  RowNumber  CustomerId   Surname  CreditScore Geography  Gender  \\\n",
       "0           0          1    15634602  Hargrave          619    France  Female   \n",
       "1           1          2    15647311      Hill          608     Spain  Female   \n",
       "2           2          3    15619304      Onio          502    France  Female   \n",
       "3           3          4    15701354      Boni          699    France  Female   \n",
       "4           4          5    15737888  Mitchell          850     Spain  Female   \n",
       "\n",
       "   Age  Tenure    Balance  NumOfProducts  HasCrCard  IsActiveMember  \\\n",
       "0   42       2       0.00              1          1               1   \n",
       "1   41       1   83807.86              1          0               1   \n",
       "2   42       8  159660.80              3          1               0   \n",
       "3   39       1       0.00              2          0               0   \n",
       "4   43       2  125510.82              1          1               1   \n",
       "\n",
       "   EstimatedSalary  Exited  \n",
       "0        101348.88       1  \n",
       "1        112542.58       0  \n",
       "2        113931.57       1  \n",
       "3         93826.63       0  \n",
       "4         79084.10       0  "
      ]
     },
     "execution_count": 6,
     "metadata": {},
     "output_type": "execute_result"
    }
   ],
   "source": [
    "df = gx.read_csv('Dataset_original.csv')\n",
    "df.head()"
   ]
  },
  {
   "cell_type": "markdown",
   "metadata": {},
   "source": [
    "Or you can directly import the dataset from link:\n"
   ]
  },
  {
   "cell_type": "code",
   "execution_count": null,
   "metadata": {},
   "outputs": [],
   "source": [
    "df = gx.read_csv('https://cf-courses-data.s3.us.cloud-object-storage.appdomain.cloud/IBM-GPXX0J6EEN/Dataset_original.csv')\n",
    "df.head()"
   ]
  },
  {
   "cell_type": "code",
   "execution_count": 7,
   "metadata": {
    "tags": []
   },
   "outputs": [
    {
     "data": {
      "text/plain": [
       "(9000, 15)"
      ]
     },
     "execution_count": 7,
     "metadata": {},
     "output_type": "execute_result"
    }
   ],
   "source": [
    "df.shape"
   ]
  },
  {
   "cell_type": "code",
   "execution_count": 8,
   "metadata": {
    "tags": []
   },
   "outputs": [
    {
     "data": {
      "text/plain": [
       "great_expectations.dataset.pandas_dataset.PandasDataset"
      ]
     },
     "execution_count": 8,
     "metadata": {},
     "output_type": "execute_result"
    }
   ],
   "source": [
    "type(df)"
   ]
  },
  {
   "cell_type": "markdown",
   "metadata": {},
   "source": [
    "The dataset is saved in the `great_expectations.dataset.pandas_dataset.PandasDataset` format in `Great Expectations`. We will call `df.<function>` to check the data quality.\n"
   ]
  },
  {
   "cell_type": "markdown",
   "metadata": {},
   "source": [
    "### Check One - Exists or not\n",
    "\n",
    "Let's check if a  column & content **exist or not**; making sure that our model target in the customer churn model: **\"Exited\"** exists.\n",
    "\n",
    "Column **'Exited'** exists:\n"
   ]
  },
  {
   "cell_type": "code",
   "execution_count": 9,
   "metadata": {
    "tags": []
   },
   "outputs": [
    {
     "data": {
      "text/plain": [
       "{\n",
       "  \"result\": {},\n",
       "  \"exception_info\": {\n",
       "    \"raised_exception\": false,\n",
       "    \"exception_traceback\": null,\n",
       "    \"exception_message\": null\n",
       "  },\n",
       "  \"meta\": {},\n",
       "  \"success\": true\n",
       "}"
      ]
     },
     "execution_count": 9,
     "metadata": {},
     "output_type": "execute_result"
    }
   ],
   "source": [
    "out = df.expect_column_to_exist('Exited')\n",
    "out"
   ]
  },
  {
   "cell_type": "markdown",
   "metadata": {},
   "source": [
    "This will raise an exception if the column does not exist in the DataFrame, stopping the execution of the code. The output is of type <a href= \"https://docs.greatexpectations.io/docs/terms/validation_result/?utm_medium=Exinfluencer&utm_source=Exinfluencer&utm_content=000026UJ&utm_term=10006555&utm_id=NA-SkillsNetwork-Channel-SkillsNetworkGuidedProjectsIBMGPXX0J6EEN1429-2022-01-01#:~:text=A%20Validation%20Result%20is%20an,of%20verifiable%20assertions%20about%20data\"> Validation Result </a> essentially a dictionary.\n"
   ]
  },
  {
   "cell_type": "code",
   "execution_count": 10,
   "metadata": {
    "tags": []
   },
   "outputs": [
    {
     "data": {
      "text/plain": [
       "great_expectations.core.expectation_validation_result.ExpectationValidationResult"
      ]
     },
     "execution_count": 10,
     "metadata": {},
     "output_type": "execute_result"
    }
   ],
   "source": [
    "type(out)"
   ]
  },
  {
   "cell_type": "markdown",
   "metadata": {},
   "source": [
    "In general, the output has the following attributes:\n"
   ]
  },
  {
   "cell_type": "markdown",
   "metadata": {},
   "source": [
    "```success```: A true or false indicator of whether the Expectation passed.\n",
    "\n",
    "```result```: The observed values generated when the Expectation was run.\n",
    "\n",
    "```meta```: Provides additional information about the Validation Result of some Expectations.\n",
    "\n",
    "```exception_info```: This is a dictionary with three keys.\n",
    "\n",
    "```raised_exception``` indicates if an exception was raised during the Validation\n",
    "\n",
    "```exception_traceback``` contains the traceback of the raised exception, if an exception was raised.\n",
    "\n",
    "```exception_message ``` contains the message associated with the raised exception, if an exception was raised\n"
   ]
  },
  {
   "cell_type": "markdown",
   "metadata": {},
   "source": [
    "The key ```success``` is the key we are interested in:\n"
   ]
  },
  {
   "cell_type": "code",
   "execution_count": 11,
   "metadata": {
    "tags": []
   },
   "outputs": [
    {
     "data": {
      "text/plain": [
       "True"
      ]
     },
     "execution_count": 11,
     "metadata": {},
     "output_type": "execute_result"
    }
   ],
   "source": [
    "out[\"success\"]\n",
    "##or using out.success"
   ]
  },
  {
   "cell_type": "markdown",
   "metadata": {},
   "source": [
    "If the column does not exist, we get the following result:\n"
   ]
  },
  {
   "cell_type": "code",
   "execution_count": 12,
   "metadata": {
    "tags": []
   },
   "outputs": [
    {
     "data": {
      "text/plain": [
       "False"
      ]
     },
     "execution_count": 12,
     "metadata": {},
     "output_type": "execute_result"
    }
   ],
   "source": [
    "out = df.expect_column_to_exist('not exist')\n",
    "out[\"success\"]"
   ]
  },
  {
   "cell_type": "markdown",
   "metadata": {},
   "source": [
    "We can also check whether or not the column **\"Exited\"** has null values, using the method ```expect_column_values_to_not_be_null()```. This method checks if a specific column of a DataFrame have null values. This method can be useful for ensuring that important data is present and not missing from your dataset.\n"
   ]
  },
  {
   "cell_type": "code",
   "execution_count": 13,
   "metadata": {
    "tags": []
   },
   "outputs": [
    {
     "data": {
      "text/plain": [
       "{\n",
       "  \"result\": {\n",
       "    \"element_count\": 9000,\n",
       "    \"unexpected_count\": 0,\n",
       "    \"unexpected_percent\": 0.0,\n",
       "    \"unexpected_percent_total\": 0.0,\n",
       "    \"partial_unexpected_list\": []\n",
       "  },\n",
       "  \"exception_info\": {\n",
       "    \"raised_exception\": false,\n",
       "    \"exception_traceback\": null,\n",
       "    \"exception_message\": null\n",
       "  },\n",
       "  \"meta\": {},\n",
       "  \"success\": true\n",
       "}"
      ]
     },
     "execution_count": 13,
     "metadata": {},
     "output_type": "execute_result"
    }
   ],
   "source": [
    "df.expect_column_values_to_not_be_null('Exited')"
   ]
  },
  {
   "cell_type": "markdown",
   "metadata": {},
   "source": [
    "Very good! You know understand how to use the very basic checking function of Great Expectations.\n",
    "\n",
    "<img src=\"https://cf-courses-data.s3.us.cloud-object-storage.appdomain.cloud/IBM-GPXX0J6EEN/images/thumb_favorite_hand_arm_handle_hand_tool_equal_like-941135.jpg%21d.jpeg\" width=\"30%\">\n"
   ]
  },
  {
   "cell_type": "markdown",
   "metadata": {},
   "source": [
    "### Check Two - Simple content\n",
    "\n",
    "We need to make sure the **format** of the content in a column is correct. \n",
    "\n",
    "For example, **'Surname'** need to be **strings**:\n"
   ]
  },
  {
   "cell_type": "code",
   "execution_count": 14,
   "metadata": {
    "tags": []
   },
   "outputs": [
    {
     "data": {
      "text/plain": [
       "{\n",
       "  \"result\": {\n",
       "    \"element_count\": 9000,\n",
       "    \"missing_count\": 0,\n",
       "    \"missing_percent\": 0.0,\n",
       "    \"unexpected_count\": 0,\n",
       "    \"unexpected_percent\": 0.0,\n",
       "    \"unexpected_percent_total\": 0.0,\n",
       "    \"unexpected_percent_nonmissing\": 0.0,\n",
       "    \"partial_unexpected_list\": []\n",
       "  },\n",
       "  \"exception_info\": {\n",
       "    \"raised_exception\": false,\n",
       "    \"exception_traceback\": null,\n",
       "    \"exception_message\": null\n",
       "  },\n",
       "  \"meta\": {},\n",
       "  \"success\": true\n",
       "}"
      ]
     },
     "execution_count": 14,
     "metadata": {},
     "output_type": "execute_result"
    }
   ],
   "source": [
    "out = df.expect_column_values_to_be_of_type('Surname', 'str')\n",
    "out"
   ]
  },
  {
   "cell_type": "markdown",
   "metadata": {},
   "source": [
    "Moreover, if we'd like to check if the **'Surname'** column entries are strings that match a given **regular expression**:\n"
   ]
  },
  {
   "cell_type": "code",
   "execution_count": 15,
   "metadata": {
    "tags": []
   },
   "outputs": [
    {
     "data": {
      "text/plain": [
       "{\n",
       "  \"result\": {\n",
       "    \"element_count\": 9000,\n",
       "    \"missing_count\": 0,\n",
       "    \"missing_percent\": 0.0,\n",
       "    \"unexpected_count\": 135,\n",
       "    \"unexpected_percent\": 1.5,\n",
       "    \"unexpected_percent_total\": 1.5,\n",
       "    \"unexpected_percent_nonmissing\": 1.5,\n",
       "    \"partial_unexpected_list\": [\n",
       "      \"H?\",\n",
       "      \"T'ien\",\n",
       "      \"T'ang\",\n",
       "      \"T'ang\",\n",
       "      \"T'ao\",\n",
       "      \"K'ung\",\n",
       "      \"L?\",\n",
       "      \"K'ung\",\n",
       "      \"T'ang\",\n",
       "      \"K'ung\",\n",
       "      \"P'an\",\n",
       "      \"P'eng\",\n",
       "      \"T'ien\",\n",
       "      \"Y?an\",\n",
       "      \"L?\",\n",
       "      \"Y?an\",\n",
       "      \"L?\",\n",
       "      \"H?\",\n",
       "      \"T'an\",\n",
       "      \"T'ao\"\n",
       "    ]\n",
       "  },\n",
       "  \"exception_info\": {\n",
       "    \"raised_exception\": false,\n",
       "    \"exception_traceback\": null,\n",
       "    \"exception_message\": null\n",
       "  },\n",
       "  \"meta\": {},\n",
       "  \"success\": false\n",
       "}"
      ]
     },
     "execution_count": 15,
     "metadata": {},
     "output_type": "execute_result"
    }
   ],
   "source": [
    "out = df.expect_column_values_to_match_regex('Surname', '[A-Z][a-z]')\n",
    "out"
   ]
  },
  {
   "cell_type": "code",
   "execution_count": 16,
   "metadata": {
    "tags": []
   },
   "outputs": [
    {
     "data": {
      "text/plain": [
       "False"
      ]
     },
     "execution_count": 16,
     "metadata": {},
     "output_type": "execute_result"
    }
   ],
   "source": [
    "out[\"success\"]"
   ]
  },
  {
   "cell_type": "markdown",
   "metadata": {},
   "source": [
    "Unlike the expectations above, some of the content **failed** the test, as some of the data has **not only letters** but some irregular **symbols** in their names. We can see the examples in ``` partial_unexpected_list```, for example:  ```Y?an```\n"
   ]
  },
  {
   "cell_type": "code",
   "execution_count": 17,
   "metadata": {
    "tags": []
   },
   "outputs": [
    {
     "data": {
      "text/html": [
       "<div>\n",
       "<style scoped>\n",
       "    .dataframe tbody tr th:only-of-type {\n",
       "        vertical-align: middle;\n",
       "    }\n",
       "\n",
       "    .dataframe tbody tr th {\n",
       "        vertical-align: top;\n",
       "    }\n",
       "\n",
       "    .dataframe thead th {\n",
       "        text-align: right;\n",
       "    }\n",
       "</style>\n",
       "<table border=\"1\" class=\"dataframe\">\n",
       "  <thead>\n",
       "    <tr style=\"text-align: right;\">\n",
       "      <th></th>\n",
       "      <th>Unnamed: 0</th>\n",
       "      <th>RowNumber</th>\n",
       "      <th>CustomerId</th>\n",
       "      <th>Surname</th>\n",
       "      <th>CreditScore</th>\n",
       "      <th>Geography</th>\n",
       "      <th>Gender</th>\n",
       "      <th>Age</th>\n",
       "      <th>Tenure</th>\n",
       "      <th>Balance</th>\n",
       "      <th>NumOfProducts</th>\n",
       "      <th>HasCrCard</th>\n",
       "      <th>IsActiveMember</th>\n",
       "      <th>EstimatedSalary</th>\n",
       "      <th>Exited</th>\n",
       "    </tr>\n",
       "  </thead>\n",
       "  <tbody>\n",
       "    <tr>\n",
       "      <th>941</th>\n",
       "      <td>941</td>\n",
       "      <td>942</td>\n",
       "      <td>15676521</td>\n",
       "      <td>Y?an</td>\n",
       "      <td>696</td>\n",
       "      <td>France</td>\n",
       "      <td>Female</td>\n",
       "      <td>31</td>\n",
       "      <td>8</td>\n",
       "      <td>0.00</td>\n",
       "      <td>2</td>\n",
       "      <td>0</td>\n",
       "      <td>0</td>\n",
       "      <td>191074.11</td>\n",
       "      <td>0</td>\n",
       "    </tr>\n",
       "    <tr>\n",
       "      <th>977</th>\n",
       "      <td>977</td>\n",
       "      <td>978</td>\n",
       "      <td>15582616</td>\n",
       "      <td>Y?an</td>\n",
       "      <td>520</td>\n",
       "      <td>France</td>\n",
       "      <td>Female</td>\n",
       "      <td>38</td>\n",
       "      <td>4</td>\n",
       "      <td>0.00</td>\n",
       "      <td>2</td>\n",
       "      <td>1</td>\n",
       "      <td>0</td>\n",
       "      <td>56388.63</td>\n",
       "      <td>0</td>\n",
       "    </tr>\n",
       "    <tr>\n",
       "      <th>2300</th>\n",
       "      <td>2300</td>\n",
       "      <td>2301</td>\n",
       "      <td>15647266</td>\n",
       "      <td>Y?an</td>\n",
       "      <td>651</td>\n",
       "      <td>Spain</td>\n",
       "      <td>Female</td>\n",
       "      <td>45</td>\n",
       "      <td>10</td>\n",
       "      <td>135923.16</td>\n",
       "      <td>1</td>\n",
       "      <td>1</td>\n",
       "      <td>0</td>\n",
       "      <td>18732.84</td>\n",
       "      <td>0</td>\n",
       "    </tr>\n",
       "    <tr>\n",
       "      <th>5868</th>\n",
       "      <td>5868</td>\n",
       "      <td>5869</td>\n",
       "      <td>15663817</td>\n",
       "      <td>Y?an</td>\n",
       "      <td>713</td>\n",
       "      <td>France</td>\n",
       "      <td>Male</td>\n",
       "      <td>46</td>\n",
       "      <td>5</td>\n",
       "      <td>0.00</td>\n",
       "      <td>1</td>\n",
       "      <td>1</td>\n",
       "      <td>1</td>\n",
       "      <td>55701.62</td>\n",
       "      <td>0</td>\n",
       "    </tr>\n",
       "    <tr>\n",
       "      <th>6020</th>\n",
       "      <td>6020</td>\n",
       "      <td>6021</td>\n",
       "      <td>15781234</td>\n",
       "      <td>Y?an</td>\n",
       "      <td>609</td>\n",
       "      <td>France</td>\n",
       "      <td>Female</td>\n",
       "      <td>35</td>\n",
       "      <td>2</td>\n",
       "      <td>147900.43</td>\n",
       "      <td>1</td>\n",
       "      <td>1</td>\n",
       "      <td>0</td>\n",
       "      <td>140000.29</td>\n",
       "      <td>0</td>\n",
       "    </tr>\n",
       "    <tr>\n",
       "      <th>6030</th>\n",
       "      <td>6030</td>\n",
       "      <td>6031</td>\n",
       "      <td>15581388</td>\n",
       "      <td>Y?an</td>\n",
       "      <td>487</td>\n",
       "      <td>Spain</td>\n",
       "      <td>Male</td>\n",
       "      <td>33</td>\n",
       "      <td>8</td>\n",
       "      <td>145729.71</td>\n",
       "      <td>1</td>\n",
       "      <td>1</td>\n",
       "      <td>0</td>\n",
       "      <td>41365.85</td>\n",
       "      <td>0</td>\n",
       "    </tr>\n",
       "    <tr>\n",
       "      <th>7143</th>\n",
       "      <td>7143</td>\n",
       "      <td>7144</td>\n",
       "      <td>15761158</td>\n",
       "      <td>Y?an</td>\n",
       "      <td>719</td>\n",
       "      <td>France</td>\n",
       "      <td>Female</td>\n",
       "      <td>54</td>\n",
       "      <td>7</td>\n",
       "      <td>0.00</td>\n",
       "      <td>2</td>\n",
       "      <td>1</td>\n",
       "      <td>1</td>\n",
       "      <td>125041.52</td>\n",
       "      <td>0</td>\n",
       "    </tr>\n",
       "    <tr>\n",
       "      <th>7869</th>\n",
       "      <td>7869</td>\n",
       "      <td>7870</td>\n",
       "      <td>15693771</td>\n",
       "      <td>Y?an</td>\n",
       "      <td>651</td>\n",
       "      <td>Spain</td>\n",
       "      <td>Female</td>\n",
       "      <td>45</td>\n",
       "      <td>8</td>\n",
       "      <td>95922.90</td>\n",
       "      <td>1</td>\n",
       "      <td>1</td>\n",
       "      <td>0</td>\n",
       "      <td>84782.42</td>\n",
       "      <td>1</td>\n",
       "    </tr>\n",
       "    <tr>\n",
       "      <th>8170</th>\n",
       "      <td>8170</td>\n",
       "      <td>8171</td>\n",
       "      <td>15641366</td>\n",
       "      <td>Y?an</td>\n",
       "      <td>599</td>\n",
       "      <td>Germany</td>\n",
       "      <td>Male</td>\n",
       "      <td>61</td>\n",
       "      <td>1</td>\n",
       "      <td>124737.96</td>\n",
       "      <td>1</td>\n",
       "      <td>0</td>\n",
       "      <td>1</td>\n",
       "      <td>90389.61</td>\n",
       "      <td>1</td>\n",
       "    </tr>\n",
       "    <tr>\n",
       "      <th>8388</th>\n",
       "      <td>8388</td>\n",
       "      <td>8389</td>\n",
       "      <td>15806570</td>\n",
       "      <td>Y?an</td>\n",
       "      <td>763</td>\n",
       "      <td>France</td>\n",
       "      <td>Female</td>\n",
       "      <td>53</td>\n",
       "      <td>4</td>\n",
       "      <td>0.00</td>\n",
       "      <td>1</td>\n",
       "      <td>1</td>\n",
       "      <td>0</td>\n",
       "      <td>77203.72</td>\n",
       "      <td>1</td>\n",
       "    </tr>\n",
       "    <tr>\n",
       "      <th>8869</th>\n",
       "      <td>8869</td>\n",
       "      <td>8870</td>\n",
       "      <td>15733597</td>\n",
       "      <td>Y?an</td>\n",
       "      <td>669</td>\n",
       "      <td>France</td>\n",
       "      <td>Female</td>\n",
       "      <td>41</td>\n",
       "      <td>0</td>\n",
       "      <td>150219.41</td>\n",
       "      <td>2</td>\n",
       "      <td>0</td>\n",
       "      <td>0</td>\n",
       "      <td>107839.03</td>\n",
       "      <td>0</td>\n",
       "    </tr>\n",
       "  </tbody>\n",
       "</table>\n",
       "</div>"
      ],
      "text/plain": [
       "      Unnamed: 0  RowNumber  CustomerId Surname  CreditScore Geography  \\\n",
       "941          941        942    15676521    Y?an          696    France   \n",
       "977          977        978    15582616    Y?an          520    France   \n",
       "2300        2300       2301    15647266    Y?an          651     Spain   \n",
       "5868        5868       5869    15663817    Y?an          713    France   \n",
       "6020        6020       6021    15781234    Y?an          609    France   \n",
       "6030        6030       6031    15581388    Y?an          487     Spain   \n",
       "7143        7143       7144    15761158    Y?an          719    France   \n",
       "7869        7869       7870    15693771    Y?an          651     Spain   \n",
       "8170        8170       8171    15641366    Y?an          599   Germany   \n",
       "8388        8388       8389    15806570    Y?an          763    France   \n",
       "8869        8869       8870    15733597    Y?an          669    France   \n",
       "\n",
       "      Gender  Age  Tenure    Balance  NumOfProducts  HasCrCard  \\\n",
       "941   Female   31       8       0.00              2          0   \n",
       "977   Female   38       4       0.00              2          1   \n",
       "2300  Female   45      10  135923.16              1          1   \n",
       "5868    Male   46       5       0.00              1          1   \n",
       "6020  Female   35       2  147900.43              1          1   \n",
       "6030    Male   33       8  145729.71              1          1   \n",
       "7143  Female   54       7       0.00              2          1   \n",
       "7869  Female   45       8   95922.90              1          1   \n",
       "8170    Male   61       1  124737.96              1          0   \n",
       "8388  Female   53       4       0.00              1          1   \n",
       "8869  Female   41       0  150219.41              2          0   \n",
       "\n",
       "      IsActiveMember  EstimatedSalary  Exited  \n",
       "941                0        191074.11       0  \n",
       "977                0         56388.63       0  \n",
       "2300               0         18732.84       0  \n",
       "5868               1         55701.62       0  \n",
       "6020               0        140000.29       0  \n",
       "6030               0         41365.85       0  \n",
       "7143               1        125041.52       0  \n",
       "7869               0         84782.42       1  \n",
       "8170               1         90389.61       1  \n",
       "8388               0         77203.72       1  \n",
       "8869               0        107839.03       0  "
      ]
     },
     "execution_count": 17,
     "metadata": {},
     "output_type": "execute_result"
    }
   ],
   "source": [
    "df[df['Surname']=='Y?an']"
   ]
  },
  {
   "cell_type": "markdown",
   "metadata": {},
   "source": [
    "### Check Three - Be in set\n",
    "\n",
    "If we want to see if the **values of a column** are from a specific list of values, we can use the **be in set method** from Great Expectations.\n",
    "\n",
    "Check if numbers in **'HasCrCard'** consist of binary values **0,1**:\n"
   ]
  },
  {
   "cell_type": "code",
   "execution_count": 18,
   "metadata": {
    "tags": []
   },
   "outputs": [
    {
     "data": {
      "text/plain": [
       "{\n",
       "  \"result\": {\n",
       "    \"element_count\": 9000,\n",
       "    \"missing_count\": 0,\n",
       "    \"missing_percent\": 0.0,\n",
       "    \"unexpected_count\": 0,\n",
       "    \"unexpected_percent\": 0.0,\n",
       "    \"unexpected_percent_total\": 0.0,\n",
       "    \"unexpected_percent_nonmissing\": 0.0,\n",
       "    \"partial_unexpected_list\": []\n",
       "  },\n",
       "  \"exception_info\": {\n",
       "    \"raised_exception\": false,\n",
       "    \"exception_traceback\": null,\n",
       "    \"exception_message\": null\n",
       "  },\n",
       "  \"meta\": {},\n",
       "  \"success\": true\n",
       "}"
      ]
     },
     "execution_count": 18,
     "metadata": {},
     "output_type": "execute_result"
    }
   ],
   "source": [
    "df.expect_column_values_to_be_in_set('HasCrCard', [0, 1])"
   ]
  },
  {
   "cell_type": "markdown",
   "metadata": {},
   "source": [
    "Values could also be strings, values in the column **'Geography'** are **Spain, Germany, or France**:\n"
   ]
  },
  {
   "cell_type": "code",
   "execution_count": 19,
   "metadata": {
    "tags": []
   },
   "outputs": [
    {
     "data": {
      "text/plain": [
       "{\n",
       "  \"result\": {\n",
       "    \"observed_value\": [\n",
       "      \"France\",\n",
       "      \"Germany\",\n",
       "      \"Spain\"\n",
       "    ],\n",
       "    \"element_count\": 9000,\n",
       "    \"missing_count\": null,\n",
       "    \"missing_percent\": null\n",
       "  },\n",
       "  \"exception_info\": {\n",
       "    \"raised_exception\": false,\n",
       "    \"exception_traceback\": null,\n",
       "    \"exception_message\": null\n",
       "  },\n",
       "  \"meta\": {},\n",
       "  \"success\": true\n",
       "}"
      ]
     },
     "execution_count": 19,
     "metadata": {},
     "output_type": "execute_result"
    }
   ],
   "source": [
    "df.expect_column_distinct_values_to_be_in_set(\"Geography\",['Spain','Germany','France'])"
   ]
  },
  {
   "cell_type": "markdown",
   "metadata": {},
   "source": [
    "You can also use some of `pandas` Dataframe's functions in `Great Expectations`. For example, `.value_count`:\n"
   ]
  },
  {
   "cell_type": "code",
   "execution_count": 20,
   "metadata": {
    "tags": []
   },
   "outputs": [
    {
     "data": {
      "text/plain": [
       "France     4498\n",
       "Spain      2253\n",
       "Germany    2249\n",
       "Name: Geography, dtype: int64"
      ]
     },
     "execution_count": 20,
     "metadata": {},
     "output_type": "execute_result"
    }
   ],
   "source": [
    "df['Geography'].value_counts()"
   ]
  },
  {
   "cell_type": "markdown",
   "metadata": {},
   "source": [
    "Plot out the geographic result:\n"
   ]
  },
  {
   "cell_type": "code",
   "execution_count": 21,
   "metadata": {
    "tags": []
   },
   "outputs": [
    {
     "data": {
      "image/png": "[encoded data removed]",
      "text/plain": [
       "<Figure size 640x480 with 1 Axes>"
      ]
     },
     "metadata": {},
     "output_type": "display_data"
    }
   ],
   "source": [
    "plt.pie(df['Geography'].value_counts(),labels=df['Geography'].unique(), startangle=90, autopct='%1.1f%%')\n",
    "\n",
    "plt.axis('equal')\n",
    "\n",
    "plt.show()"
   ]
  },
  {
   "cell_type": "markdown",
   "metadata": {},
   "source": [
    "Similarly, we can call `.plot` to plot it in a *bar figure* directly for the `Great Expectaions` read **Dataset**.\n"
   ]
  },
  {
   "cell_type": "code",
   "execution_count": 22,
   "metadata": {
    "tags": []
   },
   "outputs": [
    {
     "data": {
      "text/plain": [
       "<AxesSubplot:>"
      ]
     },
     "execution_count": 22,
     "metadata": {},
     "output_type": "execute_result"
    },
    {
     "data": {
      "image/png": "[encoded data removed]",
      "text/plain": [
       "<Figure size 640x480 with 1 Axes>"
      ]
     },
     "metadata": {},
     "output_type": "display_data"
    }
   ],
   "source": [
    "df['NumOfProducts'].value_counts().plot(kind='bar')"
   ]
  },
  {
   "cell_type": "markdown",
   "metadata": {},
   "source": [
    "### Check Four - Value ratios\n",
    "\n",
    "Other than just checking the data format in a column, `Great Expectations` could check the value **occurrence ratio**.\n",
    "\n",
    "For example, here we want the sample to have 50/50 gender distributions. With the *[Kullback–Leibler divergence](https://en.wikipedia.org/wiki/Kullback%E2%80%93Leibler_divergence?utm_medium=Exinfluencer&utm_source=Exinfluencer&utm_content=000026UJ&utm_term=10006555&utm_id=NA-SkillsNetwork-Channel-SkillsNetworkGuidedProjectsIBMGPXX0J6EEN1429-2022-01-01)* less than 0.1:\n"
   ]
  },
  {
   "cell_type": "code",
   "execution_count": 23,
   "metadata": {
    "tags": []
   },
   "outputs": [
    {
     "data": {
      "text/plain": [
       "{\n",
       "  \"result\": {\n",
       "    \"observed_value\": 0.0038966441612041727,\n",
       "    \"element_count\": 9000,\n",
       "    \"missing_count\": null,\n",
       "    \"missing_percent\": null\n",
       "  },\n",
       "  \"exception_info\": {\n",
       "    \"raised_exception\": false,\n",
       "    \"exception_traceback\": null,\n",
       "    \"exception_message\": null\n",
       "  },\n",
       "  \"meta\": {},\n",
       "  \"success\": true\n",
       "}"
      ]
     },
     "execution_count": 23,
     "metadata": {},
     "output_type": "execute_result"
    }
   ],
   "source": [
    "partition_object = {\n",
    "    'values': ['Male', 'Female'],\n",
    "    'weights': [0.5, 0.5],\n",
    "    \n",
    "}\n",
    "df.expect_column_kl_divergence_to_be_less_than('Gender', partition_object, 0.1)"
   ]
  },
  {
   "cell_type": "markdown",
   "metadata": {},
   "source": [
    "You can use the following sentence to conveniently create **weights from categorical data**:\n"
   ]
  },
  {
   "cell_type": "code",
   "execution_count": 24,
   "metadata": {
    "tags": []
   },
   "outputs": [
    {
     "data": {
      "text/plain": [
       "{'values': ['Male', 'Female'], 'weights': array([0.54411111, 0.45588889])}"
      ]
     },
     "execution_count": 24,
     "metadata": {},
     "output_type": "execute_result"
    }
   ],
   "source": [
    "sex_partition = gx.dataset.util.categorical_partition_data(df['Gender'])\n",
    "sex_partition"
   ]
  },
  {
   "cell_type": "markdown",
   "metadata": {},
   "source": [
    "Moreover, you can check whether column values is has a similar **distribution** to the **provided categorical partition**. \n",
    "\n",
    "Here in the example, the expectation compares categorical distributions using a **Chi-squared test**. \n",
    "\n",
    "It returns **success=True** if values in the column **match** the distribution of the provided partition.\n"
   ]
  },
  {
   "cell_type": "code",
   "execution_count": 25,
   "metadata": {
    "tags": []
   },
   "outputs": [
    {
     "data": {
      "text/plain": [
       "{\n",
       "  \"result\": {\n",
       "    \"observed_value\": 1.0,\n",
       "    \"element_count\": 9000,\n",
       "    \"missing_count\": null,\n",
       "    \"missing_percent\": null\n",
       "  },\n",
       "  \"exception_info\": {\n",
       "    \"raised_exception\": false,\n",
       "    \"exception_traceback\": null,\n",
       "    \"exception_message\": null\n",
       "  },\n",
       "  \"meta\": {},\n",
       "  \"success\": true\n",
       "}"
      ]
     },
     "execution_count": 25,
     "metadata": {},
     "output_type": "execute_result"
    }
   ],
   "source": [
    "df.expect_column_chisquare_test_p_value_to_be_greater_than('Gender', sex_partition)"
   ]
  },
  {
   "cell_type": "markdown",
   "metadata": {},
   "source": [
    "**Well done! You are halfway done with the project.\n",
    "Thanks for your effort in working on it. Let's continue!**\n"
   ]
  },
  {
   "cell_type": "markdown",
   "metadata": {},
   "source": [
    "<img src=\"https://cf-courses-data.s3.us.cloud-object-storage.appdomain.cloud/IBM-GPXX0J6EEN/images/man_person_power_strength_strong_fitness_body_muscles-641586.jpg%21d.jpeg\" width=\"40%\">\n"
   ]
  },
  {
   "cell_type": "markdown",
   "metadata": {},
   "source": [
    "### Check Five - Number & mostly\n",
    "\n",
    "Let's look at the distribution of the number value column, **'Age'**:\n"
   ]
  },
  {
   "cell_type": "code",
   "execution_count": 26,
   "metadata": {
    "tags": []
   },
   "outputs": [
    {
     "data": {
      "text/plain": [
       "(array([ 556., 1950., 3248., 1701.,  753.,  472.,  189.,  113.,   14.,\n",
       "           4.]),\n",
       " array([18. , 25.4, 32.8, 40.2, 47.6, 55. , 62.4, 69.8, 77.2, 84.6, 92. ]),\n",
       " <BarContainer object of 10 artists>)"
      ]
     },
     "execution_count": 26,
     "metadata": {},
     "output_type": "execute_result"
    },
    {
     "data": {
      "image/png": "[encoded data removed]",
      "text/plain": [
       "<Figure size 640x480 with 1 Axes>"
      ]
     },
     "metadata": {},
     "output_type": "display_data"
    }
   ],
   "source": [
    "plt.hist(df['Age'])"
   ]
  },
  {
   "cell_type": "markdown",
   "metadata": {},
   "source": [
    "We can set an expectation for the number range, for example the expectation here is that if 'Age' is in the range of 18-85:\n"
   ]
  },
  {
   "cell_type": "code",
   "execution_count": 27,
   "metadata": {
    "tags": []
   },
   "outputs": [
    {
     "data": {
      "text/plain": [
       "{\n",
       "  \"result\": {\n",
       "    \"element_count\": 9000,\n",
       "    \"missing_count\": 0,\n",
       "    \"missing_percent\": 0.0,\n",
       "    \"unexpected_count\": 3,\n",
       "    \"unexpected_percent\": 0.03333333333333333,\n",
       "    \"unexpected_percent_total\": 0.03333333333333333,\n",
       "    \"unexpected_percent_nonmissing\": 0.03333333333333333,\n",
       "    \"partial_unexpected_list\": [\n",
       "      88,\n",
       "      92,\n",
       "      92\n",
       "    ]\n",
       "  },\n",
       "  \"exception_info\": {\n",
       "    \"raised_exception\": false,\n",
       "    \"exception_traceback\": null,\n",
       "    \"exception_message\": null\n",
       "  },\n",
       "  \"meta\": {},\n",
       "  \"success\": false\n",
       "}"
      ]
     },
     "execution_count": 27,
     "metadata": {},
     "output_type": "execute_result"
    }
   ],
   "source": [
    "out = df.expect_column_values_to_be_between('Age', min_value=18, max_value=85)\n",
    "out"
   ]
  },
  {
   "cell_type": "code",
   "execution_count": 28,
   "metadata": {
    "tags": []
   },
   "outputs": [
    {
     "data": {
      "text/plain": [
       "False"
      ]
     },
     "execution_count": 28,
     "metadata": {},
     "output_type": "execute_result"
    }
   ],
   "source": [
    "out[\"success\"]"
   ]
  },
  {
   "cell_type": "markdown",
   "metadata": {},
   "source": [
    "The expectation **fails**, because there are many old people in the dataset.\n",
    "\n",
    "To ignore some of the outliers, you could use **'mostly'** in `Great Expectations`:\n"
   ]
  },
  {
   "cell_type": "code",
   "execution_count": 29,
   "metadata": {
    "tags": []
   },
   "outputs": [
    {
     "data": {
      "text/plain": [
       "{\n",
       "  \"result\": {\n",
       "    \"element_count\": 9000,\n",
       "    \"missing_count\": 0,\n",
       "    \"missing_percent\": 0.0,\n",
       "    \"unexpected_count\": 3,\n",
       "    \"unexpected_percent\": 0.03333333333333333,\n",
       "    \"unexpected_percent_total\": 0.03333333333333333,\n",
       "    \"unexpected_percent_nonmissing\": 0.03333333333333333,\n",
       "    \"partial_unexpected_list\": [\n",
       "      88,\n",
       "      92,\n",
       "      92\n",
       "    ]\n",
       "  },\n",
       "  \"exception_info\": {\n",
       "    \"raised_exception\": false,\n",
       "    \"exception_traceback\": null,\n",
       "    \"exception_message\": null\n",
       "  },\n",
       "  \"meta\": {},\n",
       "  \"success\": true\n",
       "}"
      ]
     },
     "execution_count": 29,
     "metadata": {},
     "output_type": "execute_result"
    }
   ],
   "source": [
    "out_new=df.expect_column_values_to_be_between('Age', min_value=18, max_value=85, mostly=0.99)\n",
    "out_new"
   ]
  },
  {
   "cell_type": "code",
   "execution_count": 30,
   "metadata": {
    "tags": []
   },
   "outputs": [
    {
     "data": {
      "text/plain": [
       "True"
      ]
     },
     "execution_count": 30,
     "metadata": {},
     "output_type": "execute_result"
    }
   ],
   "source": [
    "out_new[\"success\"]"
   ]
  },
  {
   "cell_type": "markdown",
   "metadata": {},
   "source": [
    "**'Mostly'** is an optional input for a lot of the expectations functions.\n"
   ]
  },
  {
   "cell_type": "markdown",
   "metadata": {},
   "source": [
    "### Check Six - Statistical information\n",
    "\n",
    "You can also acquire the statistical information for the number column. For example, the **median** of the 'EstimateSalary':\n"
   ]
  },
  {
   "cell_type": "code",
   "execution_count": 31,
   "metadata": {
    "tags": []
   },
   "outputs": [
    {
     "data": {
      "text/plain": [
       "100438.025"
      ]
     },
     "execution_count": 31,
     "metadata": {},
     "output_type": "execute_result"
    }
   ],
   "source": [
    "df.get_column_median('EstimatedSalary')"
   ]
  },
  {
   "cell_type": "markdown",
   "metadata": {},
   "source": [
    "We can check the **mean** and **standard deviation** of the 'CreditScore' of the customer:\n"
   ]
  },
  {
   "cell_type": "code",
   "execution_count": 32,
   "metadata": {
    "tags": []
   },
   "outputs": [
    {
     "data": {
      "text/plain": [
       "(array([  16.,  151.,  407.,  866., 1311., 1679., 1753., 1360.,  865.,\n",
       "         592.]),\n",
       " array([350., 400., 450., 500., 550., 600., 650., 700., 750., 800., 850.]),\n",
       " <BarContainer object of 10 artists>)"
      ]
     },
     "execution_count": 32,
     "metadata": {},
     "output_type": "execute_result"
    },
    {
     "data": {
      "image/png": "[encoded data removed]",
      "text/plain": [
       "<Figure size 640x480 with 1 Axes>"
      ]
     },
     "metadata": {},
     "output_type": "display_data"
    }
   ],
   "source": [
    "plt.hist(df['CreditScore'])"
   ]
  },
  {
   "cell_type": "code",
   "execution_count": 33,
   "metadata": {
    "tags": []
   },
   "outputs": [
    {
     "data": {
      "text/plain": [
       "650.1335555555555"
      ]
     },
     "execution_count": 33,
     "metadata": {},
     "output_type": "execute_result"
    }
   ],
   "source": [
    "df.get_column_mean('CreditScore')"
   ]
  },
  {
   "cell_type": "code",
   "execution_count": 34,
   "metadata": {
    "tags": []
   },
   "outputs": [
    {
     "data": {
      "text/plain": [
       "96.81297216672871"
      ]
     },
     "execution_count": 34,
     "metadata": {},
     "output_type": "execute_result"
    }
   ],
   "source": [
    "df.get_column_stdev('CreditScore')"
   ]
  },
  {
   "cell_type": "markdown",
   "metadata": {},
   "source": [
    "We can also check the **sum** of a column for example 'balance':\n"
   ]
  },
  {
   "cell_type": "code",
   "execution_count": 35,
   "metadata": {
    "tags": []
   },
   "outputs": [
    {
     "data": {
      "text/plain": [
       "687842630.7"
      ]
     },
     "execution_count": 35,
     "metadata": {},
     "output_type": "execute_result"
    }
   ],
   "source": [
    "df.get_column_sum('Balance')"
   ]
  },
  {
   "cell_type": "markdown",
   "metadata": {},
   "source": [
    "### Combined expectations suite & future data validation\n",
    "\n",
    "Last, we can **combine** the `Great Expectations` content above into a **whole suite** for the future dataset check before your putting them in your model:\n"
   ]
  },
  {
   "cell_type": "code",
   "execution_count": 36,
   "metadata": {
    "tags": []
   },
   "outputs": [
    {
     "data": {
      "text/plain": [
       "{\n",
       "  \"expectations\": [\n",
       "    {\n",
       "      \"kwargs\": {\n",
       "        \"column\": \"Exited\"\n",
       "      },\n",
       "      \"expectation_type\": \"expect_column_to_exist\",\n",
       "      \"meta\": {}\n",
       "    },\n",
       "    {\n",
       "      \"kwargs\": {\n",
       "        \"column\": \"Exited\"\n",
       "      },\n",
       "      \"expectation_type\": \"expect_column_values_to_not_be_null\",\n",
       "      \"meta\": {}\n",
       "    },\n",
       "    {\n",
       "      \"kwargs\": {\n",
       "        \"column\": \"Surname\",\n",
       "        \"type_\": \"str\"\n",
       "      },\n",
       "      \"expectation_type\": \"expect_column_values_to_be_of_type\",\n",
       "      \"meta\": {}\n",
       "    },\n",
       "    {\n",
       "      \"kwargs\": {\n",
       "        \"column\": \"HasCrCard\",\n",
       "        \"value_set\": [\n",
       "          0,\n",
       "          1\n",
       "        ]\n",
       "      },\n",
       "      \"expectation_type\": \"expect_column_values_to_be_in_set\",\n",
       "      \"meta\": {}\n",
       "    },\n",
       "    {\n",
       "      \"kwargs\": {\n",
       "        \"column\": \"Geography\",\n",
       "        \"value_set\": [\n",
       "          \"Spain\",\n",
       "          \"Germany\",\n",
       "          \"France\"\n",
       "        ]\n",
       "      },\n",
       "      \"expectation_type\": \"expect_column_distinct_values_to_be_in_set\",\n",
       "      \"meta\": {}\n",
       "    },\n",
       "    {\n",
       "      \"kwargs\": {\n",
       "        \"column\": \"Gender\",\n",
       "        \"partition_object\": {\n",
       "          \"values\": [\n",
       "            \"Male\",\n",
       "            \"Female\"\n",
       "          ],\n",
       "          \"weights\": [\n",
       "            0.5,\n",
       "            0.5\n",
       "          ]\n",
       "        },\n",
       "        \"threshold\": 0.1\n",
       "      },\n",
       "      \"expectation_type\": \"expect_column_kl_divergence_to_be_less_than\",\n",
       "      \"meta\": {}\n",
       "    },\n",
       "    {\n",
       "      \"kwargs\": {\n",
       "        \"column\": \"Gender\",\n",
       "        \"partition_object\": {\n",
       "          \"values\": [\n",
       "            \"Male\",\n",
       "            \"Female\"\n",
       "          ],\n",
       "          \"weights\": [\n",
       "            0.5441111111111111,\n",
       "            0.4558888888888889\n",
       "          ]\n",
       "        }\n",
       "      },\n",
       "      \"expectation_type\": \"expect_column_chisquare_test_p_value_to_be_greater_than\",\n",
       "      \"meta\": {}\n",
       "    },\n",
       "    {\n",
       "      \"kwargs\": {\n",
       "        \"column\": \"Age\",\n",
       "        \"min_value\": 18,\n",
       "        \"max_value\": 85,\n",
       "        \"mostly\": 0.99\n",
       "      },\n",
       "      \"expectation_type\": \"expect_column_values_to_be_between\",\n",
       "      \"meta\": {}\n",
       "    }\n",
       "  ],\n",
       "  \"data_asset_type\": \"Dataset\",\n",
       "  \"meta\": {\n",
       "    \"great_expectations_version\": \"0.16.13\"\n",
       "  },\n",
       "  \"expectation_suite_name\": \"default\",\n",
       "  \"ge_cloud_id\": null\n",
       "}"
      ]
     },
     "execution_count": 36,
     "metadata": {},
     "output_type": "execute_result"
    }
   ],
   "source": [
    "my_expectations = df.get_expectation_suite()\n",
    "my_expectations"
   ]
  },
  {
   "cell_type": "markdown",
   "metadata": {},
   "source": [
    "The get_expectation_suite will store the Expectations those we used above.\n",
    "\n",
    "But here is a important things to be noticed:\n",
    "\n",
    "1. The expectations' **input settings**, like the value for 'mostly' are the **same as the original** settings.\n",
    "\n",
    "2. By default, **The expecations that the original dataset failed will not be stored here.** For example, the name string check `df.expect_column_values_to_match_regex('Surname', '[A-Z][a-z]')` failed for the original dataset, Thus, it's **not included** here.\n"
   ]
  },
  {
   "cell_type": "markdown",
   "metadata": {},
   "source": [
    "But you can manually change that by change the input of `discard_failed_expectations` to false:\n"
   ]
  },
  {
   "cell_type": "code",
   "execution_count": 37,
   "metadata": {
    "tags": []
   },
   "outputs": [
    {
     "data": {
      "text/plain": [
       "{\n",
       "  \"expectations\": [\n",
       "    {\n",
       "      \"kwargs\": {\n",
       "        \"column\": \"Exited\"\n",
       "      },\n",
       "      \"expectation_type\": \"expect_column_to_exist\",\n",
       "      \"meta\": {}\n",
       "    },\n",
       "    {\n",
       "      \"kwargs\": {\n",
       "        \"column\": \"not exist\"\n",
       "      },\n",
       "      \"expectation_type\": \"expect_column_to_exist\",\n",
       "      \"meta\": {}\n",
       "    },\n",
       "    {\n",
       "      \"kwargs\": {\n",
       "        \"column\": \"Exited\"\n",
       "      },\n",
       "      \"expectation_type\": \"expect_column_values_to_not_be_null\",\n",
       "      \"meta\": {}\n",
       "    },\n",
       "    {\n",
       "      \"kwargs\": {\n",
       "        \"column\": \"Surname\",\n",
       "        \"type_\": \"str\"\n",
       "      },\n",
       "      \"expectation_type\": \"expect_column_values_to_be_of_type\",\n",
       "      \"meta\": {}\n",
       "    },\n",
       "    {\n",
       "      \"kwargs\": {\n",
       "        \"column\": \"Surname\",\n",
       "        \"regex\": \"[A-Z][a-z]\"\n",
       "      },\n",
       "      \"expectation_type\": \"expect_column_values_to_match_regex\",\n",
       "      \"meta\": {}\n",
       "    },\n",
       "    {\n",
       "      \"kwargs\": {\n",
       "        \"column\": \"HasCrCard\",\n",
       "        \"value_set\": [\n",
       "          0,\n",
       "          1\n",
       "        ]\n",
       "      },\n",
       "      \"expectation_type\": \"expect_column_values_to_be_in_set\",\n",
       "      \"meta\": {}\n",
       "    },\n",
       "    {\n",
       "      \"kwargs\": {\n",
       "        \"column\": \"Geography\",\n",
       "        \"value_set\": [\n",
       "          \"Spain\",\n",
       "          \"Germany\",\n",
       "          \"France\"\n",
       "        ]\n",
       "      },\n",
       "      \"expectation_type\": \"expect_column_distinct_values_to_be_in_set\",\n",
       "      \"meta\": {}\n",
       "    },\n",
       "    {\n",
       "      \"kwargs\": {\n",
       "        \"column\": \"Gender\",\n",
       "        \"partition_object\": {\n",
       "          \"values\": [\n",
       "            \"Male\",\n",
       "            \"Female\"\n",
       "          ],\n",
       "          \"weights\": [\n",
       "            0.5,\n",
       "            0.5\n",
       "          ]\n",
       "        },\n",
       "        \"threshold\": 0.1\n",
       "      },\n",
       "      \"expectation_type\": \"expect_column_kl_divergence_to_be_less_than\",\n",
       "      \"meta\": {}\n",
       "    },\n",
       "    {\n",
       "      \"kwargs\": {\n",
       "        \"column\": \"Gender\",\n",
       "        \"partition_object\": {\n",
       "          \"values\": [\n",
       "            \"Male\",\n",
       "            \"Female\"\n",
       "          ],\n",
       "          \"weights\": [\n",
       "            0.5441111111111111,\n",
       "            0.4558888888888889\n",
       "          ]\n",
       "        }\n",
       "      },\n",
       "      \"expectation_type\": \"expect_column_chisquare_test_p_value_to_be_greater_than\",\n",
       "      \"meta\": {}\n",
       "    },\n",
       "    {\n",
       "      \"kwargs\": {\n",
       "        \"column\": \"Age\",\n",
       "        \"min_value\": 18,\n",
       "        \"max_value\": 85,\n",
       "        \"mostly\": 0.99\n",
       "      },\n",
       "      \"expectation_type\": \"expect_column_values_to_be_between\",\n",
       "      \"meta\": {}\n",
       "    }\n",
       "  ],\n",
       "  \"data_asset_type\": \"Dataset\",\n",
       "  \"meta\": {\n",
       "    \"great_expectations_version\": \"0.16.13\"\n",
       "  },\n",
       "  \"expectation_suite_name\": \"default\",\n",
       "  \"ge_cloud_id\": null\n",
       "}"
      ]
     },
     "execution_count": 37,
     "metadata": {},
     "output_type": "execute_result"
    }
   ],
   "source": [
    "my_expectations_false_included = df.get_expectation_suite(discard_failed_expectations=False)\n",
    "my_expectations_false_included"
   ]
  },
  {
   "cell_type": "markdown",
   "metadata": {},
   "source": [
    "Then the failed expectations, like `df.expect_column_values_to_match_regex('Surname', '[A-Z][a-z]')` are also in the suite `my_expectations_false_included`\n"
   ]
  },
  {
   "cell_type": "markdown",
   "metadata": {},
   "source": [
    "<img src=\"https://cf-courses-data.s3.us.cloud-object-storage.appdomain.cloud/IBM-GPXX0J6EEN/images/1.png\" width=\"40%\">\n"
   ]
  },
  {
   "cell_type": "markdown",
   "metadata": {},
   "source": [
    "We are saving the suite to do data validation for the future dataset with the same Expectations content.\n",
    "\n",
    "Here is **how to apply the check suite** to another dataset:\n"
   ]
  },
  {
   "cell_type": "markdown",
   "metadata": {},
   "source": [
    "_1. Similar to what we did above, import the file that that has testing dataset:_ \n"
   ]
  },
  {
   "cell_type": "code",
   "execution_count": 38,
   "metadata": {
    "tags": []
   },
   "outputs": [
    {
     "data": {
      "text/html": [
       "<div>\n",
       "<style scoped>\n",
       "    .dataframe tbody tr th:only-of-type {\n",
       "        vertical-align: middle;\n",
       "    }\n",
       "\n",
       "    .dataframe tbody tr th {\n",
       "        vertical-align: top;\n",
       "    }\n",
       "\n",
       "    .dataframe thead th {\n",
       "        text-align: right;\n",
       "    }\n",
       "</style>\n",
       "<table border=\"1\" class=\"dataframe\">\n",
       "  <thead>\n",
       "    <tr style=\"text-align: right;\">\n",
       "      <th></th>\n",
       "      <th>RowNumber</th>\n",
       "      <th>CustomerId</th>\n",
       "      <th>Surname</th>\n",
       "      <th>CreditScore</th>\n",
       "      <th>Geography</th>\n",
       "      <th>Gender</th>\n",
       "      <th>Age</th>\n",
       "      <th>Tenure</th>\n",
       "      <th>Balance</th>\n",
       "      <th>NumOfProducts</th>\n",
       "      <th>HasCrCard</th>\n",
       "      <th>IsActiveMember</th>\n",
       "      <th>EstimatedSalary</th>\n",
       "      <th>Exited</th>\n",
       "    </tr>\n",
       "  </thead>\n",
       "  <tbody>\n",
       "    <tr>\n",
       "      <th>0</th>\n",
       "      <td>1</td>\n",
       "      <td>15723217</td>\n",
       "      <td>Cremonesi</td>\n",
       "      <td>616</td>\n",
       "      <td>France</td>\n",
       "      <td>Male</td>\n",
       "      <td>37</td>\n",
       "      <td>9</td>\n",
       "      <td>0.00</td>\n",
       "      <td>1</td>\n",
       "      <td>1</td>\n",
       "      <td>0</td>\n",
       "      <td>111312.96</td>\n",
       "      <td>0</td>\n",
       "    </tr>\n",
       "    <tr>\n",
       "      <th>1</th>\n",
       "      <td>2</td>\n",
       "      <td>15733111</td>\n",
       "      <td>Yeh</td>\n",
       "      <td>688</td>\n",
       "      <td>Spain</td>\n",
       "      <td>Male</td>\n",
       "      <td>32</td>\n",
       "      <td>6</td>\n",
       "      <td>124179.30</td>\n",
       "      <td>1</td>\n",
       "      <td>1</td>\n",
       "      <td>1</td>\n",
       "      <td>138759.15</td>\n",
       "      <td>0</td>\n",
       "    </tr>\n",
       "    <tr>\n",
       "      <th>2</th>\n",
       "      <td>3</td>\n",
       "      <td>15610727</td>\n",
       "      <td>Ch'in</td>\n",
       "      <td>605</td>\n",
       "      <td>France</td>\n",
       "      <td>Male</td>\n",
       "      <td>36</td>\n",
       "      <td>7</td>\n",
       "      <td>128829.25</td>\n",
       "      <td>1</td>\n",
       "      <td>1</td>\n",
       "      <td>0</td>\n",
       "      <td>190588.59</td>\n",
       "      <td>0</td>\n",
       "    </tr>\n",
       "    <tr>\n",
       "      <th>3</th>\n",
       "      <td>4</td>\n",
       "      <td>15792720</td>\n",
       "      <td>Martinez</td>\n",
       "      <td>676</td>\n",
       "      <td>France</td>\n",
       "      <td>Male</td>\n",
       "      <td>33</td>\n",
       "      <td>6</td>\n",
       "      <td>171490.78</td>\n",
       "      <td>1</td>\n",
       "      <td>0</td>\n",
       "      <td>0</td>\n",
       "      <td>79099.64</td>\n",
       "      <td>0</td>\n",
       "    </tr>\n",
       "    <tr>\n",
       "      <th>4</th>\n",
       "      <td>5</td>\n",
       "      <td>15723153</td>\n",
       "      <td>Wearing</td>\n",
       "      <td>708</td>\n",
       "      <td>Spain</td>\n",
       "      <td>Male</td>\n",
       "      <td>33</td>\n",
       "      <td>3</td>\n",
       "      <td>0.00</td>\n",
       "      <td>2</td>\n",
       "      <td>1</td>\n",
       "      <td>0</td>\n",
       "      <td>138613.21</td>\n",
       "      <td>0</td>\n",
       "    </tr>\n",
       "  </tbody>\n",
       "</table>\n",
       "</div>"
      ],
      "text/plain": [
       "   RowNumber  CustomerId    Surname  CreditScore Geography Gender  Age  \\\n",
       "0          1    15723217  Cremonesi          616    France   Male   37   \n",
       "1          2    15733111        Yeh          688     Spain   Male   32   \n",
       "2          3    15610727      Ch'in          605    France   Male   36   \n",
       "3          4    15792720   Martinez          676    France   Male   33   \n",
       "4          5    15723153    Wearing          708     Spain   Male   33   \n",
       "\n",
       "   Tenure    Balance  NumOfProducts  HasCrCard  IsActiveMember  \\\n",
       "0       9       0.00              1          1               0   \n",
       "1       6  124179.30              1          1               1   \n",
       "2       7  128829.25              1          1               0   \n",
       "3       6  171490.78              1          0               0   \n",
       "4       3       0.00              2          1               0   \n",
       "\n",
       "   EstimatedSalary  Exited  \n",
       "0        111312.96       0  \n",
       "1        138759.15       0  \n",
       "2        190588.59       0  \n",
       "3         79099.64       0  \n",
       "4        138613.21       0  "
      ]
     },
     "execution_count": 38,
     "metadata": {},
     "output_type": "execute_result"
    }
   ],
   "source": [
    "df_test=gx.read_csv(\"https://cf-courses-data.s3.us.cloud-object-storage.appdomain.cloud/IBM-GPXX0J6EEN/Dataset_test.csv\")\n",
    "df_test.head()"
   ]
  },
  {
   "cell_type": "markdown",
   "metadata": {},
   "source": [
    "_2. Applying the suite to the dataset using `validate`. The input `expectation_suite` is the one we saved above:_\n"
   ]
  },
  {
   "cell_type": "code",
   "execution_count": 39,
   "metadata": {
    "tags": []
   },
   "outputs": [
    {
     "data": {
      "text/plain": [
       "{\n",
       "  \"evaluation_parameters\": {},\n",
       "  \"meta\": {\n",
       "    \"great_expectations_version\": \"0.16.13\",\n",
       "    \"expectation_suite_name\": \"default\",\n",
       "    \"run_id\": {\n",
       "      \"run_time\": \"2023-12-26T17:59:31.532920+00:00\",\n",
       "      \"run_name\": null\n",
       "    },\n",
       "    \"batch_kwargs\": {\n",
       "      \"ge_batch_id\": \"814eb2e4-a418-11ee-86fa-be10735272b3\"\n",
       "    },\n",
       "    \"batch_markers\": {},\n",
       "    \"batch_parameters\": {},\n",
       "    \"validation_time\": \"20231226T175931.532669Z\",\n",
       "    \"expectation_suite_meta\": {\n",
       "      \"great_expectations_version\": \"0.16.13\"\n",
       "    }\n",
       "  },\n",
       "  \"results\": [],\n",
       "  \"success\": true,\n",
       "  \"statistics\": {\n",
       "    \"evaluated_expectations\": 8,\n",
       "    \"successful_expectations\": 8,\n",
       "    \"unsuccessful_expectations\": 0,\n",
       "    \"success_percent\": 100.0\n",
       "  }\n",
       "}"
      ]
     },
     "execution_count": 39,
     "metadata": {},
     "output_type": "execute_result"
    }
   ],
   "source": [
    "results = df_test.validate(expectation_suite=my_expectations, only_return_failures=True)\n",
    "results"
   ]
  },
  {
   "cell_type": "markdown",
   "metadata": {},
   "source": [
    "Similar to the single Expectation, the result of suite validation is also stored in a dictionary.\n",
    "\n",
    "You can also find whether the validation pass for the new dataset by calling `'success'`:\n"
   ]
  },
  {
   "cell_type": "code",
   "execution_count": 40,
   "metadata": {
    "tags": []
   },
   "outputs": [
    {
     "data": {
      "text/plain": [
       "True"
      ]
     },
     "execution_count": 40,
     "metadata": {},
     "output_type": "execute_result"
    }
   ],
   "source": [
    "results['success']"
   ]
  },
  {
   "cell_type": "markdown",
   "metadata": {},
   "source": [
    "The whole expectations result could be output as a `json` file:\n"
   ]
  },
  {
   "cell_type": "code",
   "execution_count": 41,
   "metadata": {
    "tags": []
   },
   "outputs": [],
   "source": [
    "df_test.save_expectation_suite('expectations.json')"
   ]
  },
  {
   "cell_type": "markdown",
   "metadata": {},
   "source": [
    "You could go the official website [https://great-expectations.readthedocs.io/en/latest/intro.html](https://great-expectations.readthedocs.io/en/latest/intro.html?utm_medium=Exinfluencer&utm_source=Exinfluencer&utm_content=000026UJ&utm_term=10006555&utm_id=NA-SkillsNetwork-Channel-SkillsNetworkGuidedProjectsIBMGPXX0J6EEN1429-2022-01-01) to see more instruction and advanced functions in `Great Expectations`.\n"
   ]
  },
  {
   "cell_type": "markdown",
   "metadata": {},
   "source": [
    "# Exercises\n"
   ]
  },
  {
   "cell_type": "markdown",
   "metadata": {},
   "source": [
    "### Exercise 1 - To be in set\n"
   ]
  },
  {
   "cell_type": "markdown",
   "metadata": {},
   "source": [
    "Write the code to check if the column `IsActiveMember` only has binary values 0 and 1:\n"
   ]
  },
  {
   "cell_type": "code",
   "execution_count": 42,
   "metadata": {
    "tags": []
   },
   "outputs": [
    {
     "data": {
      "text/plain": [
       "{\n",
       "  \"result\": {\n",
       "    \"observed_value\": [\n",
       "      0,\n",
       "      1\n",
       "    ],\n",
       "    \"element_count\": 9000,\n",
       "    \"missing_count\": null,\n",
       "    \"missing_percent\": null\n",
       "  },\n",
       "  \"exception_info\": {\n",
       "    \"raised_exception\": false,\n",
       "    \"exception_traceback\": null,\n",
       "    \"exception_message\": null\n",
       "  },\n",
       "  \"meta\": {},\n",
       "  \"success\": true\n",
       "}"
      ]
     },
     "execution_count": 42,
     "metadata": {},
     "output_type": "execute_result"
    }
   ],
   "source": [
    "df.expect_column_distinct_values_to_be_in_set(\"IsActiveMember\",[0,1])"
   ]
  },
  {
   "cell_type": "markdown",
   "metadata": {},
   "source": [
    "### Exercise 2 - Mostly\n"
   ]
  },
  {
   "cell_type": "markdown",
   "metadata": {},
   "source": [
    "Write the code to check if 95% of the column `Surname` contains only letters:\n"
   ]
  },
  {
   "cell_type": "code",
   "execution_count": 44,
   "metadata": {
    "tags": []
   },
   "outputs": [
    {
     "data": {
      "text/plain": [
       "{\n",
       "  \"result\": {\n",
       "    \"element_count\": 9000,\n",
       "    \"missing_count\": 0,\n",
       "    \"missing_percent\": 0.0,\n",
       "    \"unexpected_count\": 135,\n",
       "    \"unexpected_percent\": 1.5,\n",
       "    \"unexpected_percent_total\": 1.5,\n",
       "    \"unexpected_percent_nonmissing\": 1.5,\n",
       "    \"partial_unexpected_list\": [\n",
       "      \"H?\",\n",
       "      \"T'ien\",\n",
       "      \"T'ang\",\n",
       "      \"T'ang\",\n",
       "      \"T'ao\",\n",
       "      \"K'ung\",\n",
       "      \"L?\",\n",
       "      \"K'ung\",\n",
       "      \"T'ang\",\n",
       "      \"K'ung\",\n",
       "      \"P'an\",\n",
       "      \"P'eng\",\n",
       "      \"T'ien\",\n",
       "      \"Y?an\",\n",
       "      \"L?\",\n",
       "      \"Y?an\",\n",
       "      \"L?\",\n",
       "      \"H?\",\n",
       "      \"T'an\",\n",
       "      \"T'ao\"\n",
       "    ]\n",
       "  },\n",
       "  \"exception_info\": {\n",
       "    \"raised_exception\": false,\n",
       "    \"exception_traceback\": null,\n",
       "    \"exception_message\": null\n",
       "  },\n",
       "  \"meta\": {},\n",
       "  \"success\": true\n",
       "}"
      ]
     },
     "execution_count": 44,
     "metadata": {},
     "output_type": "execute_result"
    }
   ],
   "source": [
    "df.expect_column_values_to_match_regex('Surname', '[A-Z][a-z]', mostly=0.95)"
   ]
  },
  {
   "cell_type": "markdown",
   "metadata": {},
   "source": [
    "### Exercise 3 - In between\n"
   ]
  },
  {
   "cell_type": "markdown",
   "metadata": {},
   "source": [
    "Write the code to check if the values in the `EstimatedSalary` column are all in between **50000** and **200000**:\n"
   ]
  },
  {
   "cell_type": "code",
   "execution_count": 45,
   "metadata": {
    "tags": []
   },
   "outputs": [
    {
     "data": {
      "text/plain": [
       "{\n",
       "  \"result\": {\n",
       "    \"observed_value\": 100201.47696444433,\n",
       "    \"element_count\": 9000,\n",
       "    \"missing_count\": null,\n",
       "    \"missing_percent\": null\n",
       "  },\n",
       "  \"exception_info\": {\n",
       "    \"raised_exception\": false,\n",
       "    \"exception_traceback\": null,\n",
       "    \"exception_message\": null\n",
       "  },\n",
       "  \"meta\": {},\n",
       "  \"success\": true\n",
       "}"
      ]
     },
     "execution_count": 45,
     "metadata": {},
     "output_type": "execute_result"
    }
   ],
   "source": [
    "df.expect_column_mean_to_be_between('EstimatedSalary', min_value=50000, max_value=200000)"
   ]
  },
  {
   "cell_type": "markdown",
   "metadata": {},
   "source": [
    "Excellent! You now know how to use Great Expectations! Try applying it before your machine learning modeling next time!\n"
   ]
  },
  {
   "cell_type": "markdown",
   "metadata": {},
   "source": [
    "<img src=\"https://cf-courses-data.s3.us.cloud-object-storage.appdomain.cloud/IBM-GPXX0J6EEN/images/children_win_success_video_game_play_happy_notebooks_creative-764632.jpg%21d.jpeg\" width=\"40%\">\n"
   ]
  },
  {
   "cell_type": "markdown",
   "metadata": {},
   "source": [
    "## Authors\n"
   ]
  },
  {
   "cell_type": "markdown",
   "metadata": {},
   "source": [
    "[Junxing(J.C.) Chen](https://www.linkedin.com/in/junxing-chen-3591a4162/?utm_medium=Exinfluencer&utm_source=Exinfluencer&utm_content=000026UJ&utm_term=10006555&utm_id=NA-SkillsNetwork-Channel-SkillsNetworkGuidedProjectsIBMGPXX0J6EEN1429-2022-01-01) is a Data Science in IBM with strong interests in machine learning and cutting-edge technologies.\n"
   ]
  },
  {
   "cell_type": "markdown",
   "metadata": {},
   "source": [
    "## Change Log\n"
   ]
  },
  {
   "cell_type": "markdown",
   "metadata": {},
   "source": [
    "|Date (YYYY-MM-DD)|Version|Changed By|Change Description|\n",
    "|-|-|-|-|\n",
    "|2023-01-08|0.1|J.C.(Junxing) Chen|Create Lab|\n",
    "|2023-01-27|0.1|Roxanne Li|Reviewed and edited Lab|\n"
   ]
  },
  {
   "cell_type": "markdown",
   "metadata": {},
   "source": [
    "Copyright © 2023 IBM Corporation. All rights reserved.\n"
   ]
  }
 ],
 "metadata": {
  "kernelspec": {
   "display_name": "Python",
   "language": "python",
   "name": "conda-env-python-py"
  },
  "language_info": {
   "codemirror_mode": {
    "name": "ipython",
    "version": 3
   },
   "file_extension": ".py",
   "mimetype": "text/x-python",
   "name": "python",
   "nbconvert_exporter": "python",
   "pygments_lexer": "ipython3",
   "version": "3.7.12"
  }
 },
 "nbformat": 4,
 "nbformat_minor": 4
}
